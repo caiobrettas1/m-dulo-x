{
  "nbformat": 4,
  "nbformat_minor": 0,
  "metadata": {
    "colab": {
      "provenance": []
    },
    "kernelspec": {
      "name": "python3",
      "display_name": "Python 3"
    },
    "language_info": {
      "name": "python"
    }
  },
  "cells": [
    {
      "cell_type": "code",
      "execution_count": 24,
      "metadata": {
        "colab": {
          "base_uri": "https://localhost:8080/"
        },
        "id": "ASpZKeGnGDnY",
        "outputId": "c352432d-0906-43ca-ae9c-698d8c4f3869"
      },
      "outputs": [
        {
          "output_type": "stream",
          "name": "stdout",
          "text": [
            "===== Mini Calculadora Ebac - Aluno Caio Brettas =====\n",
            "Selecione a operação desejada:\n",
            "1 - Soma\n",
            "2 - Subtração\n",
            "3 - Multiplicação\n",
            "4 - Divisão\n",
            "5 - Potência\n",
            "0 - Desligar\n",
            "=====================================================\n",
            "Escolha uma opção 5\n",
            "Digite o primeiro número: 5\n",
            "Digite o segundo número: 3\n",
            "125.0\n",
            "\n",
            "Escolha uma opção 0\n",
            "Obrigado por utilizar minha calculadora! Até logo! :)\n"
          ]
        }
      ],
      "source": [
        "print (\"===== Mini Calculadora Ebac - Aluno Caio Brettas =====\")\n",
        "print (\"Selecione a operação desejada:\")\n",
        "print (\"1 - Soma\")\n",
        "print (\"2 - Subtração\")\n",
        "print (\"3 - Multiplicação\")\n",
        "print (\"4 - Divisão\")\n",
        "print (\"5 - Potência\")\n",
        "print (\"0 - Desligar\")\n",
        "print (\"=====================================================\")\n",
        "\n",
        "while True:\n",
        "  opcao = input(\"Escolha uma opção \")\n",
        "\n",
        "  if opcao == \"0\":\n",
        "      print (\"Obrigado por utilizar minha calculadora! Até logo! :)\")\n",
        "      break\n",
        "\n",
        "  if opcao in (\"1\" , \"2\" , \"3\" , \"4\" , \"5\"):\n",
        "    try:\n",
        "      num1 = float(input(\"Digite o primeiro número: \"))\n",
        "      num2 = float(input(\"Digite o segundo número: \"))\n",
        "\n",
        "      if opcao == '1':\n",
        "        print(num1 + num2)\n",
        "      elif opcao == \"2\":\n",
        "        print(num1 - num2)\n",
        "      elif opcao == \"3\":\n",
        "        print(num1 * num2)\n",
        "      elif opcao == \"4\":\n",
        "        if num2 != 0:\n",
        "          print(num1 / num2)\n",
        "        else:\n",
        "          print(\"Não é possível dividir um número por zero!\")\n",
        "      elif opcao == \"5\":\n",
        "        print(num1 ** num2)\n",
        "    except ValueError:\n",
        "      print(\"Entrada inválida. Por favor, digite um número válido.\")\n",
        "\n",
        "  else:\n",
        "    print(\"Opção inválida, tente novamente\")\n",
        "\n",
        "  print()\n"
      ]
    }
  ]
}